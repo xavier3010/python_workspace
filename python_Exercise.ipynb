{
 "cells": [
  {
   "cell_type": "code",
   "execution_count": 3,
   "id": "195bb0e4",
   "metadata": {},
   "outputs": [
    {
     "name": "stdout",
     "output_type": "stream",
     "text": [
      "30\n"
     ]
    }
   ],
   "source": [
    "# write a program to add two  integers 10 , 20\n",
    "a=10\n",
    "b=20\n",
    "c=a+b\n",
    "print(c)"
   ]
  },
  {
   "cell_type": "code",
   "execution_count": 5,
   "id": "456e8674",
   "metadata": {},
   "outputs": [
    {
     "name": "stdout",
     "output_type": "stream",
     "text": [
      "<class 'int'>\n",
      "<class 'float'>\n",
      "<class 'str'>\n"
     ]
    }
   ],
   "source": [
    "# Write a program to find the type of a, b ,c where a=2, b=2.8,c=\"John\"\n",
    "a=2\n",
    "b=2.8\n",
    "c=\"jhon\"\n",
    "\n",
    "print(type(a))\n",
    "print(type(b))\n",
    "print(type(c))"
   ]
  },
  {
   "cell_type": "code",
   "execution_count": 10,
   "id": "d369bf69",
   "metadata": {},
   "outputs": [
    {
     "name": "stdout",
     "output_type": "stream",
     "text": [
      "a value :  4\n",
      "b value :  2\n"
     ]
    }
   ],
   "source": [
    "#program to swap the two numbers , where a=2 ,b=4 the program should print a= 4 ,b=2\n",
    "a=2\n",
    "b=4\n",
    "a,b=b,a\n",
    "print(\"a value : \",a)\n",
    "print(\"b value : \",b)"
   ]
  },
  {
   "cell_type": "code",
   "execution_count": 12,
   "id": "2c4883da",
   "metadata": {},
   "outputs": [
    {
     "name": "stdout",
     "output_type": "stream",
     "text": [
      "3\n",
      "2\n"
     ]
    }
   ],
   "source": [
    "# Write a program to swap the two numbers , using 3 variables\n",
    "a=2\n",
    "b=3\n",
    "c=a\n",
    "a=b\n",
    "b=c\n",
    "print(a)\n",
    "print(b)\n"
   ]
  },
  {
   "cell_type": "code",
   "execution_count": 14,
   "id": "9cf7ddd6",
   "metadata": {},
   "outputs": [
    {
     "name": "stdout",
     "output_type": "stream",
     "text": [
      "quotient : 5\n",
      "remainder : 0\n"
     ]
    }
   ],
   "source": [
    "# Write a program to print the numerator and denominator , quotient and remainder\n",
    "a=5\n",
    "b=10\n",
    "print(\"quotient :\",a%b)\n",
    "print(\"remainder :\",a//b)"
   ]
  },
  {
   "cell_type": "code",
   "execution_count": 20,
   "id": "f94226d7",
   "metadata": {},
   "outputs": [
    {
     "name": "stdout",
     "output_type": "stream",
     "text": [
      "enter the principal amount :5000\n",
      "enter rate of the interset :2\n",
      " total time in years :2\n",
      "simple interst =  200.0\n"
     ]
    }
   ],
   "source": [
    "# Write a program to calculate simple interst , si =p*n*r/100\n",
    "p=int(input(\"enter the principal amount :\"))\n",
    "r=int(input(\"enter rate of the interset :\"))\n",
    "n=int(input(\"total time in years :\"))\n",
    "print(\"simple interst = \",p*r*n/100)\n",
    "\n",
    "\n"
   ]
  },
  {
   "cell_type": "code",
   "execution_count": 25,
   "id": "dbc9b0f4",
   "metadata": {},
   "outputs": [
    {
     "name": "stdout",
     "output_type": "stream",
     "text": [
      "Enter the radius :4\n",
      "area of circle : 50.24\n",
      "circumference of circle : 25.12\n"
     ]
    }
   ],
   "source": [
    "# Write a program to calculate the area and circumference of a circle ,area=3.14*radius*radius , circumference=2*3.14*r\n",
    "r=int(input(\"Enter the radius :\"))\n",
    "r=int(input(\"Enter the radius :\"))\n",
    "print(\"circumference of circle :\",2*3.14*r)"
   ]
  },
  {
   "cell_type": "code",
   "execution_count": null,
   "id": "304fdfc6",
   "metadata": {},
   "outputs": [],
   "source": [
    "# Write a program to convert Celcius to Fariehiet , fariienhiet=1.8*celcius+32\n",
    "celcius=int(input(\"Enter the celcius :\"))\n",
    "fariehiet=1.8*celcius+32\n",
    "print(\"fariehiet :\",fariehiet)\n"
   ]
  },
  {
   "cell_type": "code",
   "execution_count": null,
   "id": "a23806e2",
   "metadata": {},
   "outputs": [],
   "source": []
  }
 ],
 "metadata": {
  "kernelspec": {
   "display_name": "Python 3 (ipykernel)",
   "language": "python",
   "name": "python3"
  },
  "language_info": {
   "codemirror_mode": {
    "name": "ipython",
    "version": 3
   },
   "file_extension": ".py",
   "mimetype": "text/x-python",
   "name": "python",
   "nbconvert_exporter": "python",
   "pygments_lexer": "ipython3",
   "version": "3.9.13"
  }
 },
 "nbformat": 4,
 "nbformat_minor": 5
}
