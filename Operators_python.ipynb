{
 "cells": [
  {
   "cell_type": "code",
   "execution_count": 4,
   "id": "2a6ae6d2",
   "metadata": {},
   "outputs": [
    {
     "name": "stdout",
     "output_type": "stream",
     "text": [
      "15\n",
      "5\n",
      "2\n",
      "0\n"
     ]
    }
   ],
   "source": [
    " # 1 .Question | Write a program to print 15,5,2 and 0 ,use the approriate operator\n",
    "a=10\n",
    "b=5\n",
    "print(a+b)\n",
    "print(a-b)\n",
    "print(a//b)\n",
    "print(a%b)"
   ]
  },
  {
   "cell_type": "code",
   "execution_count": 6,
   "id": "b2bd4b27",
   "metadata": {},
   "outputs": [
    {
     "name": "stdout",
     "output_type": "stream",
     "text": [
      "9\n"
     ]
    }
   ],
   "source": [
    "# 2 .Question | write a code to print 9 , use the approriate operator\n",
    "a=3\n",
    "b=2\n",
    "print(a**b)"
   ]
  },
  {
   "cell_type": "code",
   "execution_count": 9,
   "id": "41317e58",
   "metadata": {},
   "outputs": [
    {
     "name": "stdout",
     "output_type": "stream",
     "text": [
      "2\n",
      "2.25\n",
      "1\n"
     ]
    }
   ],
   "source": [
    "# 3 .Question | # write a code to print 2 , 2.25 and 1 , use the approriate operator\n",
    "x=9\n",
    "y=4\n",
    "print(x//y)\n",
    "print(x/y)\n",
    "print(x%y)"
   ]
  },
  {
   "cell_type": "code",
   "execution_count": 11,
   "id": "59ab4987",
   "metadata": {},
   "outputs": [
    {
     "name": "stdout",
     "output_type": "stream",
     "text": [
      "True\n"
     ]
    }
   ],
   "source": [
    "# 4 .Question |  # write a code print True ,use the approriate operator\n",
    "a=10\n",
    "b=5\n",
    "print(a>b)"
   ]
  },
  {
   "cell_type": "code",
   "execution_count": 12,
   "id": "41d2f641",
   "metadata": {},
   "outputs": [
    {
     "name": "stdout",
     "output_type": "stream",
     "text": [
      "False\n"
     ]
    }
   ],
   "source": [
    "# 5 .Question | # # write a code print Fale\n",
    "a=15\n",
    "b=15\n",
    "print(a!=b)"
   ]
  },
  {
   "cell_type": "code",
   "execution_count": 13,
   "id": "781c13a5",
   "metadata": {},
   "outputs": [
    {
     "name": "stdout",
     "output_type": "stream",
     "text": [
      "True\n"
     ]
    }
   ],
   "source": [
    "# 6 .Question | # # write a code print True\n",
    "a=24\n",
    "b=24\n",
    "print(a==b)"
   ]
  },
  {
   "cell_type": "code",
   "execution_count": 14,
   "id": "6304231b",
   "metadata": {},
   "outputs": [
    {
     "name": "stdout",
     "output_type": "stream",
     "text": [
      "True\n"
     ]
    }
   ],
   "source": [
    "# 7 .Question | # # write a code print True\n",
    "a=\"python\"\n",
    "b=\"python\"\n",
    "print(a==b)"
   ]
  },
  {
   "cell_type": "code",
   "execution_count": 17,
   "id": "c24e9d0c",
   "metadata": {},
   "outputs": [
    {
     "data": {
      "text/plain": [
       "False"
      ]
     },
     "execution_count": 17,
     "metadata": {},
     "output_type": "execute_result"
    }
   ],
   "source": [
    "# 8 .Question | #  write a code print false using and operator\n",
    "a=10\n",
    "b=20\n",
    "a==b and a<b"
   ]
  },
  {
   "cell_type": "code",
   "execution_count": 18,
   "id": "7e8f0921",
   "metadata": {},
   "outputs": [
    {
     "data": {
      "text/plain": [
       "True"
      ]
     },
     "execution_count": 18,
     "metadata": {},
     "output_type": "execute_result"
    }
   ],
   "source": [
    "# 9 .Question | #  write a code print True using or operator\n",
    "a=10\n",
    "b=20\n",
    "a==b or a<b"
   ]
  },
  {
   "cell_type": "code",
   "execution_count": 23,
   "id": "8ae25ec2",
   "metadata": {},
   "outputs": [
    {
     "data": {
      "text/plain": [
       "True"
      ]
     },
     "execution_count": 23,
     "metadata": {},
     "output_type": "execute_result"
    }
   ],
   "source": [
    "# 10 .Question | #  write a code print True using Not operator\n",
    "a=10\n",
    "b=20\n",
    "a is not b"
   ]
  },
  {
   "cell_type": "code",
   "execution_count": null,
   "id": "95384dcf",
   "metadata": {},
   "outputs": [],
   "source": []
  }
 ],
 "metadata": {
  "kernelspec": {
   "display_name": "Python 3 (ipykernel)",
   "language": "python",
   "name": "python3"
  },
  "language_info": {
   "codemirror_mode": {
    "name": "ipython",
    "version": 3
   },
   "file_extension": ".py",
   "mimetype": "text/x-python",
   "name": "python",
   "nbconvert_exporter": "python",
   "pygments_lexer": "ipython3",
   "version": "3.9.13"
  }
 },
 "nbformat": 4,
 "nbformat_minor": 5
}
