{
 "cells": [
  {
   "cell_type": "code",
   "execution_count": 3,
   "id": "d1a1d2a7",
   "metadata": {},
   "outputs": [
    {
     "name": "stdout",
     "output_type": "stream",
     "text": [
      "enter hour to convert into minutes : 12\n",
      "minutes :  720\n"
     ]
    }
   ],
   "source": [
    "# Write a program to hours to minutes , user should able to give hours as input\n",
    "hours=int(input(\"enter hour to convert into minutes : \"))\n",
    "min=hours*60\n",
    "print(\"minutes : \",min)"
   ]
  },
  {
   "cell_type": "code",
   "execution_count": 9,
   "id": "b9854759",
   "metadata": {},
   "outputs": [
    {
     "name": "stdout",
     "output_type": "stream",
     "text": [
      "enter centimeter :505\n",
      "meter : 5.05\n"
     ]
    }
   ],
   "source": [
    "# Write a program to convert centimeter to meter , user shoulb be able to give centimeter as input\n",
    "cm=int(input(\"enter centimeter :\"))\n",
    "m=cm/100\n",
    "print(\"meter :\",m)"
   ]
  },
  {
   "cell_type": "code",
   "execution_count": 11,
   "id": "19467183",
   "metadata": {},
   "outputs": [
    {
     "name": "stdout",
     "output_type": "stream",
     "text": [
      "Enter miles : 10\n",
      "kilometer : 16.0\n"
     ]
    }
   ],
   "source": [
    "# Write a program to convert miles to Kilometer , user shoulb be able to give miles as input\n",
    "\n",
    "cv=1.6\n",
    "miles=int(input(\"Enter miles : \"))\n",
    "km=miles*cv\n",
    "print(\"kilometer :\",km)"
   ]
  },
  {
   "cell_type": "code",
   "execution_count": 13,
   "id": "e6aa18ff",
   "metadata": {},
   "outputs": [
    {
     "name": "stdout",
     "output_type": "stream",
     "text": [
      "Enter pounds : 345\n",
      "kilogram : 156.48924\n"
     ]
    }
   ],
   "source": [
    "# Write a program to convert pounds to Kilogram , user shoulb be able to give pounds as input\n",
    "r=0.453592\n",
    "pound=int(input(\"Enter pounds : \"))\n",
    "kg=pound*r\n",
    "print(\"kilogram :\",kg)\n",
    "\n"
   ]
  },
  {
   "cell_type": "code",
   "execution_count": 14,
   "id": "a319e741",
   "metadata": {},
   "outputs": [
    {
     "name": "stdout",
     "output_type": "stream",
     "text": [
      "enter the principal amount :10000\n",
      "enter rate of the interset :5\n",
      "total time in years :5\n",
      "simple interst =  2500.0\n"
     ]
    }
   ],
   "source": [
    "# Write a program to calculate simple interest # all input shoulb be given by the user\n",
    "p=int(input(\"enter the principal amount :\"))\n",
    "r=int(input(\"enter rate of the interset :\"))\n",
    "n=int(input(\"total time in years :\"))\n",
    "print(\"simple interst = \",p*r*n/100)\n"
   ]
  },
  {
   "cell_type": "code",
   "execution_count": 15,
   "id": "ba33a400",
   "metadata": {},
   "outputs": [
    {
     "name": "stdout",
     "output_type": "stream",
     "text": [
      "Enter the radius :4\n",
      "area of circle : 50.24\n"
     ]
    }
   ],
   "source": [
    "# Write a program to calculate area of circle\n",
    "r=int(input(\"Enter the radius :\"))\n",
    "print(\"area of circle :\",3.14*r*r)"
   ]
  },
  {
   "cell_type": "code",
   "execution_count": 16,
   "id": "6e15236d",
   "metadata": {},
   "outputs": [
    {
     "name": "stdout",
     "output_type": "stream",
     "text": [
      "Enter the radius :4\n",
      "circumference of circle : 25.12\n"
     ]
    }
   ],
   "source": [
    "# Write a program to calculate circumference of circle\n",
    "r=int(input(\"Enter the radius :\"))\n",
    "print(\"circumference of circle :\",2*3.14*r)"
   ]
  },
  {
   "cell_type": "code",
   "execution_count": 17,
   "id": "77f1ea9e",
   "metadata": {},
   "outputs": [
    {
     "name": "stdout",
     "output_type": "stream",
     "text": [
      "enter side :6\n",
      "perimeter of square : 24\n"
     ]
    }
   ],
   "source": [
    "# Write a program to calculate perimeter of square\n",
    "a=int(input(\"enter side :\"))\n",
    "print(\"perimeter of square :\",4*a)"
   ]
  },
  {
   "cell_type": "code",
   "execution_count": 18,
   "id": "530035cf",
   "metadata": {},
   "outputs": [
    {
     "name": "stdout",
     "output_type": "stream",
     "text": [
      "enter side :4\n",
      "area of square : 16\n"
     ]
    }
   ],
   "source": [
    "# Write a program to calculate area of square\n",
    "a=int(input(\"enter side :\"))\n",
    "print(\"area of square :\",a*a)"
   ]
  },
  {
   "cell_type": "code",
   "execution_count": 20,
   "id": "74fbea27",
   "metadata": {},
   "outputs": [
    {
     "name": "stdout",
     "output_type": "stream",
     "text": [
      "enter base :4\n",
      "enter height :6\n",
      "area of traingle : 12\n"
     ]
    }
   ],
   "source": [
    "# Write a program to area of traingle\n",
    "b=int(input(\"enter base :\"))\n",
    "h=int(input(\"enter height :\"))\n",
    "print(\"area of traingle :\",b*h//2)"
   ]
  },
  {
   "cell_type": "code",
   "execution_count": null,
   "id": "1240dabb",
   "metadata": {},
   "outputs": [],
   "source": []
  }
 ],
 "metadata": {
  "kernelspec": {
   "display_name": "Python 3 (ipykernel)",
   "language": "python",
   "name": "python3"
  },
  "language_info": {
   "codemirror_mode": {
    "name": "ipython",
    "version": 3
   },
   "file_extension": ".py",
   "mimetype": "text/x-python",
   "name": "python",
   "nbconvert_exporter": "python",
   "pygments_lexer": "ipython3",
   "version": "3.9.13"
  }
 },
 "nbformat": 4,
 "nbformat_minor": 5
}
