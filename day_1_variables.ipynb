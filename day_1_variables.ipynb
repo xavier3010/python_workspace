{
 "cells": [
  {
   "cell_type": "code",
   "execution_count": 5,
   "id": "a4a87963",
   "metadata": {},
   "outputs": [
    {
     "name": "stdout",
     "output_type": "stream",
     "text": [
      "sachin t-shirt number is 10\n"
     ]
    }
   ],
   "source": [
    "name = \"sachin\"\n",
    "t_shirt = 10\n",
    "print(name,\"t-shirt number is\",t_shirt)"
   ]
  },
  {
   "cell_type": "code",
   "execution_count": 7,
   "id": "59b756ef",
   "metadata": {},
   "outputs": [
    {
     "name": "stdout",
     "output_type": "stream",
     "text": [
      "india is the number 1 team and has won 2012 worldcup and it rank 1 and the captain name is kholi\n"
     ]
    }
   ],
   "source": [
    "team=\"india\"\n",
    "worldcup=2012\n",
    "captain=\"kholi\"\n",
    "rank=1\n",
    "\n",
    "print(team,\"is the number 1 team and has won\",worldcup,\"worldcup and it rank\",rank,\"and the captain name is\",captain)"
   ]
  },
  {
   "cell_type": "code",
   "execution_count": 10,
   "id": "9e5a9247",
   "metadata": {},
   "outputs": [
    {
     "name": "stdout",
     "output_type": "stream",
     "text": [
      "<class 'int'>\n",
      "<class 'float'>\n",
      "<class 'str'>\n"
     ]
    }
   ],
   "source": [
    "x=56\n",
    "y=56.78\n",
    "z=\"python\"\n",
    "\n",
    "print(type(x))\n",
    "print(type(y))\n",
    "print(type(z))"
   ]
  },
  {
   "cell_type": "code",
   "execution_count": 15,
   "id": "11a4722a",
   "metadata": {},
   "outputs": [
    {
     "name": "stdout",
     "output_type": "stream",
     "text": [
      "10.0\n"
     ]
    }
   ],
   "source": [
    "a=10\n",
    "print(float(a))\n"
   ]
  },
  {
   "cell_type": "code",
   "execution_count": 16,
   "id": "9cb7cc10",
   "metadata": {},
   "outputs": [
    {
     "name": "stdout",
     "output_type": "stream",
     "text": [
      "12\n"
     ]
    }
   ],
   "source": [
    "a=12.56\n",
    "print(int(a))"
   ]
  },
  {
   "cell_type": "code",
   "execution_count": 17,
   "id": "3e7d879b",
   "metadata": {},
   "outputs": [
    {
     "name": "stdout",
     "output_type": "stream",
     "text": [
      "30\n"
     ]
    }
   ],
   "source": [
    "a=\"10\"\n",
    "b=\"20\"\n",
    "print(int(a)+int(b))\n",
    "\n"
   ]
  },
  {
   "cell_type": "code",
   "execution_count": 18,
   "id": "403078d4",
   "metadata": {},
   "outputs": [
    {
     "ename": "ValueError",
     "evalue": "invalid literal for int() with base 10: 'hello'",
     "output_type": "error",
     "traceback": [
      "\u001b[0;31m---------------------------------------------------------------------------\u001b[0m",
      "\u001b[0;31mValueError\u001b[0m                                Traceback (most recent call last)",
      "\u001b[0;32m/var/folders/vw/dzl53xr16gn_nyynv9tpks4h0000gn/T/ipykernel_1292/2873080627.py\u001b[0m in \u001b[0;36m<module>\u001b[0;34m\u001b[0m\n\u001b[1;32m      1\u001b[0m \u001b[0ma\u001b[0m\u001b[0;34m=\u001b[0m\u001b[0;34m\"hello\"\u001b[0m\u001b[0;34m\u001b[0m\u001b[0;34m\u001b[0m\u001b[0m\n\u001b[0;32m----> 2\u001b[0;31m \u001b[0mprint\u001b[0m\u001b[0;34m(\u001b[0m\u001b[0mint\u001b[0m\u001b[0;34m(\u001b[0m\u001b[0ma\u001b[0m\u001b[0;34m)\u001b[0m\u001b[0;34m)\u001b[0m\u001b[0;34m\u001b[0m\u001b[0;34m\u001b[0m\u001b[0m\n\u001b[0m",
      "\u001b[0;31mValueError\u001b[0m: invalid literal for int() with base 10: 'hello'"
     ]
    }
   ],
   "source": [
    "a=\"hello\"\n",
    "print(int(a))"
   ]
  },
  {
   "cell_type": "code",
   "execution_count": null,
   "id": "3734c75d",
   "metadata": {},
   "outputs": [],
   "source": [
    "#we can change int and float into string using typecasting but when we change string into int or float conditions apply we can change only numeric values into string "
   ]
  }
 ],
 "metadata": {
  "kernelspec": {
   "display_name": "Python 3 (ipykernel)",
   "language": "python",
   "name": "python3"
  },
  "language_info": {
   "codemirror_mode": {
    "name": "ipython",
    "version": 3
   },
   "file_extension": ".py",
   "mimetype": "text/x-python",
   "name": "python",
   "nbconvert_exporter": "python",
   "pygments_lexer": "ipython3",
   "version": "3.9.13"
  }
 },
 "nbformat": 4,
 "nbformat_minor": 5
}
