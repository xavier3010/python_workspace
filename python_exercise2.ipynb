{
 "cells": [
  {
   "cell_type": "code",
   "execution_count": 1,
   "id": "428a884f",
   "metadata": {},
   "outputs": [
    {
     "name": "stdout",
     "output_type": "stream",
     "text": [
      "Enter the celcius :54\n",
      "fariehiet : 129.2\n"
     ]
    }
   ],
   "source": [
    "# Write a program to convert Celcius to Fariehiet , fariienhiet=1.8*celcius+32\n",
    "celcius=int(input(\"Enter the celcius :\"))\n",
    "fariehiet=1.8*celcius+32\n",
    "print(\"fariehiet :\",fariehiet)"
   ]
  },
  {
   "cell_type": "code",
   "execution_count": 4,
   "id": "fc81ec55",
   "metadata": {},
   "outputs": [
    {
     "name": "stdout",
     "output_type": "stream",
     "text": [
      "enter the value to find odd or even :5\n",
      "odd\n"
     ]
    }
   ],
   "source": [
    "# Write a program to find whether given number is odd or even\n",
    "a=int(input(\"enter the value to find odd or even :\"))\n",
    "if(a%2)==0:\n",
    "    print(\"even\")\n",
    "else:\n",
    "    print(\"odd\")\n"
   ]
  },
  {
   "cell_type": "code",
   "execution_count": 7,
   "id": "10e3d4de",
   "metadata": {},
   "outputs": [
    {
     "name": "stdout",
     "output_type": "stream",
     "text": [
      "Enter your age to check whether you are eligible to vote :56\n",
      "you are eligible to vote \n"
     ]
    }
   ],
   "source": [
    "# Write a program to check whether the person can vote or not\n",
    "age=int(input(\"Enter your age to check whether you are eligible to vote :\"))\n",
    "if(age>18):\n",
    "    print(\"you are eligible to vote \")\n",
    "else:\n",
    "    print(\"you are not eligible to vote \")"
   ]
  },
  {
   "cell_type": "code",
   "execution_count": 9,
   "id": "180ce7d5",
   "metadata": {},
   "outputs": [
    {
     "name": "stdout",
     "output_type": "stream",
     "text": [
      "Enter any year to check whether given year is leap year or not : 1999\n",
      "it is not a leap year\n"
     ]
    }
   ],
   "source": [
    "# Write a program to find whether the given year is leap year or not ?\n",
    "year=int(input(\"Enter any year to check whether given year is leap year or not : \"))\n",
    "if(year%4)==0:\n",
    "    print(\"It is the leap year \")\n",
    "else:\n",
    "    print(\"it is not a leap year\")"
   ]
  },
  {
   "cell_type": "code",
   "execution_count": 15,
   "id": "5476b2a4",
   "metadata": {},
   "outputs": [
    {
     "name": "stdout",
     "output_type": "stream",
     "text": [
      "Enter first number : 34\n",
      "Enter second number : 34\n",
      "Enter third number : 55\n",
      "c is largest\n"
     ]
    }
   ],
   "source": [
    "# Write a program to find the bigeest of three numbers\n",
    "a = int(input('Enter first number : '))\n",
    "b = int(input('Enter second number : ')) \n",
    "c = int(input('Enter third number : '))\n",
    "if(a>b and a>c):\n",
    "    print (\"a is largest\")\n",
    "elif (b>c):\n",
    "    print (\"b is largest\")\n",
    "else:\n",
    "    print(\"c is largest\")\n",
    "        \n",
    "    "
   ]
  },
  {
   "cell_type": "code",
   "execution_count": null,
   "id": "e82c0600",
   "metadata": {},
   "outputs": [],
   "source": []
  }
 ],
 "metadata": {
  "kernelspec": {
   "display_name": "Python 3 (ipykernel)",
   "language": "python",
   "name": "python3"
  },
  "language_info": {
   "codemirror_mode": {
    "name": "ipython",
    "version": 3
   },
   "file_extension": ".py",
   "mimetype": "text/x-python",
   "name": "python",
   "nbconvert_exporter": "python",
   "pygments_lexer": "ipython3",
   "version": "3.9.13"
  }
 },
 "nbformat": 4,
 "nbformat_minor": 5
}
