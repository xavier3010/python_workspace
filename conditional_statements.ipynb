{
 "cells": [
  {
   "cell_type": "code",
   "execution_count": 1,
   "id": "a7efcab8",
   "metadata": {},
   "outputs": [
    {
     "name": "stdout",
     "output_type": "stream",
     "text": [
      "enter the value to find odd or even :45\n",
      "odd\n"
     ]
    }
   ],
   "source": [
    "# Write a program to find given number is odd or even \n",
    "a=int(input(\"enter the value to find odd or even :\"))\n",
    "if(a%2)==0:\n",
    "    print(\"even\")\n",
    "else:\n",
    "    print(\"odd\")\n",
    "    "
   ]
  },
  {
   "cell_type": "code",
   "execution_count": 2,
   "id": "cfcfb9d0",
   "metadata": {},
   "outputs": [
    {
     "name": "stdout",
     "output_type": "stream",
     "text": [
      "Enter any year to check whether given year is leap year or not : 2020\n",
      "It is the leap year \n"
     ]
    }
   ],
   "source": [
    "#Write a program to find the given year is leap year or not\n",
    "year=int(input(\"Enter any year to check whether given year is leap year or not : \"))\n",
    "if(year%4)==0:\n",
    "    print(\"It is the leap year \")\n",
    "else:\n",
    "    print(\"it is not a leap year\")\n",
    "    "
   ]
  },
  {
   "cell_type": "code",
   "execution_count": 3,
   "id": "95637e1f",
   "metadata": {},
   "outputs": [
    {
     "name": "stdout",
     "output_type": "stream",
     "text": [
      "Enter your age to check whether you are eligible to vote :34\n",
      "you are eligible to vote \n"
     ]
    }
   ],
   "source": [
    " # Write a program to print \"You can Vote\" or \"You Cannot Vote\n",
    "age=int(input(\"Enter your age to check whether you are eligible to vote :\"))\n",
    "if(age>18):\n",
    "    print(\"you are eligible to vote \")\n",
    "else:\n",
    "    print(\"you are not eligible to vote \")"
   ]
  },
  {
   "cell_type": "code",
   "execution_count": 4,
   "id": "1207fbe7",
   "metadata": {},
   "outputs": [
    {
     "name": "stdout",
     "output_type": "stream",
     "text": [
      "Enter first number : 3\n",
      "Enter second number : 45\n",
      "Enter third number : 55\n",
      "c is largest\n"
     ]
    }
   ],
   "source": [
    "# Write a program to find greatest of three numbers\n",
    "a = int(input('Enter first number : '))\n",
    "b = int(input('Enter second number : ')) \n",
    "c = int(input('Enter third number : '))\n",
    "if(a>b and a>c):\n",
    "    print (\"a is largest\")\n",
    "elif (b>c):\n",
    "    print (\"b is largest\")\n",
    "else:\n",
    "    print(\"c is largest\")"
   ]
  },
  {
   "cell_type": "code",
   "execution_count": 5,
   "id": "fbf0940b",
   "metadata": {},
   "outputs": [
    {
     "name": "stdout",
     "output_type": "stream",
     "text": [
      "Enter first number : 222\n",
      "Enter second number : 222\n",
      "super\n"
     ]
    }
   ],
   "source": [
    "#Write a program to print \"Super\" if the sum of number is \"less\" than 1000 and \"great\" if the sum of number is greater than 1000\n",
    "a = int(input('Enter first number : '))\n",
    "b = int(input('Enter second number : ')) \n",
    "if(a+b)<1000:\n",
    "    print(\"super\")\n",
    "else:\n",
    "    print(\"great\")"
   ]
  },
  {
   "cell_type": "code",
   "execution_count": null,
   "id": "b0d7cf59",
   "metadata": {},
   "outputs": [],
   "source": []
  }
 ],
 "metadata": {
  "kernelspec": {
   "display_name": "Python 3 (ipykernel)",
   "language": "python",
   "name": "python3"
  },
  "language_info": {
   "codemirror_mode": {
    "name": "ipython",
    "version": 3
   },
   "file_extension": ".py",
   "mimetype": "text/x-python",
   "name": "python",
   "nbconvert_exporter": "python",
   "pygments_lexer": "ipython3",
   "version": "3.9.13"
  }
 },
 "nbformat": 4,
 "nbformat_minor": 5
}
